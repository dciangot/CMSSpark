{
 "cells": [
  {
   "cell_type": "code",
   "execution_count": 1,
   "metadata": {},
   "outputs": [],
   "source": [
    "import pandas as pd\n",
    "from datetime import datetime\n",
    "\n",
    "import matplotlib.pyplot as plt\n",
    "import datetime\n",
    "\n",
    "map_data_tier_id = {\n",
    " \"31224\": \"MINIAODSIM\",\n",
    " \"81\": \"FEVT\",\n",
    " \"183\": \"RECODEBUG\",\n",
    " \"2051\": \"NANOEDMAODSIM\",\n",
    " \"211946\": \"PREMIXRAW\",\n",
    " \"1\": \"RAW\",\n",
    " \"6\": \"RECO\",\n",
    " \"205\": \"RAWDEBUG\",\n",
    " \"2061891\": \"PREMIX\",\n",
    " \"163\": \"FEVTHLTALL\",\n",
    " \"9\": \"AOD\",\n",
    " \"8\": \"USER\",\n",
    " \"241\": \"ALCAPROMPT\",\n",
    " \"7\": \"ALCARECO\",\n",
    " \"31223\": \"MINIAOD\",\n",
    " \"361\": \"DQMROOT\",\n",
    " \"2056891\": \"NANOAOD\",\n",
    " \"125\": \"RAW-RECO\",\n",
    " \"464\": \"RAWRECOSIMHLT\",\n",
    " \"21\": \"AODSIM\",\n",
    " \"323\": \"RAW-HLT\",\n",
    " \"141\": \"FEVTDEBUGHLT\",\n",
    " \"106\": \"DIGI-RECO\",\n",
    " \"2051891\": \"RAWAODSIM\",\n",
    " \"201\": \"DQM\",\n",
    " \"31517\": \"DQMIO\",\n",
    " \"215856\": \"PREMIX-RAW\",\n",
    " \"2056892\": \"NANOAODSIM\",\n",
    " \"401\": \"LHE\",\n",
    " \"115\": \"GEN-SIM-DIGI-RAW-HLTDEBUG-RECO\",\n",
    " \"285\": \"GEN-SIM-RAW-HLT\",\n",
    " \"122\": \"GEN-SIM-RECO\",\n",
    " \"225\": \"GEN-SIM-DIGI-RECODEBUG\",\n",
    " \"206\": \"GEN-SIM-RAWDEBUG\",\n",
    " \"3\": \"GEN\",\n",
    " \"120\": \"GEN-SIM-RAW-HLTDEBUG-RECO\",\n",
    " \"117\": \"GEN-SIM-DIGI-RECO\",\n",
    " \"112\": \"GEN-SIM-DIGI-HLTDEBUG-RECO\",\n",
    " \"383\": \"GEN-RAWDEBUG\",\n",
    " \"114\": \"GEN-SIM-DIGI-RAW-HLTDEBUG\",\n",
    " \"446\": \"GEN-SIM-RAW-HLTDEBUG-RECODEBUG\",\n",
    " \"343\": \"GEN-RAW\",\n",
    " \"113\": \"GEN-SIM-DIGI-RAW\",\n",
    " \"121\": \"GEN-SIM-RAW-RECO\",\n",
    " \"109\": \"GEN-SIM\",\n",
    " \"110\": \"GEN-SIM-DIGI\",\n",
    " \"116\": \"GEN-SIM-DIGI-RAW-RECO\",\n",
    " \"119\": \"GEN-SIM-RAW-HLTDEBUG\",\n",
    " \"118\": \"GEN-SIM-RAW\",\n",
    " \"184\": \"GEN-SIM-RECODEBUG\"\n",
    "}"
   ]
  },
  {
   "cell_type": "code",
   "execution_count": 2,
   "metadata": {
    "scrolled": false
   },
   "outputs": [
    {
     "name": "stdout",
     "output_type": "stream",
     "text": [
      "True 19_01\n",
      "True 19_02\n",
      "True 19_03\n",
      "True 19_04\n",
      "writing True\n",
      "False 19_01\n",
      "False 19_02\n",
      "False 19_03\n",
      "False 19_04\n",
      "writing False\n"
     ]
    }
   ],
   "source": [
    "#data = data_spark.toPandas()\n",
    "months_17 = [\n",
    "         '17_01',\n",
    "         '17_02',\n",
    "         '17_03',\n",
    "         '17_04',\n",
    "         '17_05',\n",
    "         '17_06',\n",
    "         '17_07',\n",
    "         '17_08',\n",
    "         '17_09',\n",
    "         '17_10',\n",
    "         '17_11',\n",
    "         '17_12'\n",
    "        ]\n",
    "\n",
    "months_18 = [\n",
    "         '18_01',\n",
    "         '18_02',\n",
    "         '18_03',\n",
    "         '18_04',\n",
    "         '18_05',\n",
    "         '18_06',\n",
    "         '18_07',\n",
    "         '18_08',\n",
    "         '18_09',\n",
    "         '18_10',\n",
    "         '18_11',\n",
    "         '18_12',\n",
    "        ]\n",
    "\n",
    "months_19 = [\n",
    "         '19_01',\n",
    "         '19_02',\n",
    "         '19_03',\n",
    "         '19_04',\n",
    "        ]\n",
    "\n",
    "\n",
    "mcList = [True, False]\n",
    "\n",
    "for mc in mcList:\n",
    "    data_tmp = pd.DataFrame\n",
    "    data = pd.DataFrame()\n",
    "    \n",
    "    for month in months_19:\n",
    "        print mc, month\n",
    "\n",
    "        if mc:\n",
    "            #print 'mc'\n",
    "            data_month = pd.read_pickle('./pandas_raw/ws_mc%s_%s.pkl' % (mc, month))\\\n",
    "                     .groupby(['day','Country', 'RequestCpus', 'CMSSite', 'CRAB_Workflow', 'CRAB_UserHN', 'Chirp_CRAB3_Job_ExitCode'])\\\n",
    "                     .sum().reset_index()\n",
    "            #print data_month.columns\n",
    "        else:\n",
    "            data_month = pd.read_pickle('./pandas_raw/ws_mc%s_%s.pkl' % (mc, month))\n",
    "        #print  data_month.WallClock.sum()\n",
    "\n",
    "        if data.empty:\n",
    "            data = data_month\n",
    "        else:\n",
    "            data = pd.concat([data_tmp, data_month], sort=False, axis=0)\n",
    "\n",
    "        data_tmp = data\n",
    "\n",
    "    if not mc:\n",
    "        data['data_label'] = data.apply(lambda x: map_data_tier_id[\"%s\" % x['d_data_tier_id']], axis=1 )\n",
    "    data['ExitCode'] = data.apply(lambda x: 0 if x['Chirp_CRAB3_Job_ExitCode']== 0 else 1, axis=1)\n",
    "    data['day'] = pd.to_datetime(data['day'],unit='s')\n",
    "\n",
    "    #print data.WallClock.sum()\n",
    "\n",
    "    data.fillna(-1)\n",
    "\n",
    "    #print data.WallClock.sum()\n",
    "\n",
    "    start_date = datetime.datetime(2017,12,31)\n",
    "\n",
    "    regions = ['T2_FR_', 'T2_IT_', 'T2_US_', 'T2_DE_', 'T2_ES_']\n",
    "    for region in regions:\n",
    "        data_tmp = data[(data['CMSSite'].str.startswith(region)) & (data['day'] > start_date)]\n",
    "        data_tmp.to_pickle('./pandas_dfs/ws_mc%s_%s19.pkl' % (mc, region))\n",
    "    data_tmp = data[(data['day'] > start_date)]\n",
    "    print 'writing', mc\n",
    "    data_tmp.to_pickle('./pandas_dfs/ws_mc%s_all_19.pkl' % mc)"
   ]
  },
  {
   "cell_type": "code",
   "execution_count": null,
   "metadata": {},
   "outputs": [],
   "source": [
    "#data_tmp = data[(data['day'] > start_date)]\n",
    "#data_tmp.to_pickle('./pandas_dfs/ws_mc%s_all_19.pkl.gz' % mc)"
   ]
  },
  {
   "cell_type": "code",
   "execution_count": null,
   "metadata": {},
   "outputs": [],
   "source": [
    "#data[(data['day'] > start_date)].WallClock.sum()"
   ]
  },
  {
   "cell_type": "code",
   "execution_count": null,
   "metadata": {},
   "outputs": [],
   "source": [
    "#data_tmp.WallClock.sum()"
   ]
  },
  {
   "cell_type": "code",
   "execution_count": null,
   "metadata": {},
   "outputs": [],
   "source": []
  },
  {
   "cell_type": "code",
   "execution_count": null,
   "metadata": {},
   "outputs": [],
   "source": []
  },
  {
   "cell_type": "code",
   "execution_count": null,
   "metadata": {},
   "outputs": [],
   "source": []
  },
  {
   "cell_type": "code",
   "execution_count": null,
   "metadata": {},
   "outputs": [],
   "source": []
  },
  {
   "cell_type": "code",
   "execution_count": null,
   "metadata": {},
   "outputs": [],
   "source": []
  }
 ],
 "metadata": {
  "kernelspec": {
   "display_name": "Python 2",
   "language": "python",
   "name": "python2"
  },
  "language_info": {
   "codemirror_mode": {
    "name": "ipython",
    "version": 2
   },
   "file_extension": ".py",
   "mimetype": "text/x-python",
   "name": "python",
   "nbconvert_exporter": "python",
   "pygments_lexer": "ipython2",
   "version": "2.7.15"
  },
  "sparkconnect": {
   "bundled_options": [
    "CMSSpark"
   ],
   "list_of_options": []
  }
 },
 "nbformat": 4,
 "nbformat_minor": 2
}